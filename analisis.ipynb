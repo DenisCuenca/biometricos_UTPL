{
 "cells": [
  {
   "cell_type": "code",
   "execution_count": 1,
   "id": "4daa8e33",
   "metadata": {},
   "outputs": [],
   "source": [
    "import pandas as pd"
   ]
  },
  {
   "cell_type": "code",
   "execution_count": 2,
   "id": "2b98c6c1",
   "metadata": {},
   "outputs": [
    {
     "name": "stdout",
     "output_type": "stream",
     "text": [
      "C:\\Users\\H P\\Documents\\utpl\\ciclo6\\practicum.2.2\\picadas\\data\n"
     ]
    }
   ],
   "source": [
    "cd data"
   ]
  },
  {
   "cell_type": "code",
   "execution_count": 111,
   "id": "ab05a1b2",
   "metadata": {},
   "outputs": [],
   "source": [
    "registros = pd.read_csv(\"registros.csv\", sep = \";\")\n",
    "jornadas = pd.read_csv(\"jornadas.csv\", sep = \";\")"
   ]
  },
  {
   "cell_type": "code",
   "execution_count": 112,
   "id": "492a2ece",
   "metadata": {},
   "outputs": [],
   "source": [
    "j = jornadas[(jornadas[\"Jornada Matutina\"]!='NO DECLARA') | (jornadas[\"Jornada Vespertina\"]!='NO DECLARA')]"
   ]
  },
  {
   "cell_type": "code",
   "execution_count": 113,
   "id": "32e0414c",
   "metadata": {},
   "outputs": [],
   "source": [
    "j.columns = [\"id\", \"name\", \"jmor\", \"jaft\"]\n"
   ]
  },
  {
   "cell_type": "code",
   "execution_count": 114,
   "id": "e790d252",
   "metadata": {},
   "outputs": [],
   "source": [
    "r = registros[registros[\"Cedula\"].notna()].iloc[:-2 , :]\n",
    "r = r[r[\"Apellidos y nombres\"].notna()]\n",
    "r = r[r[\"Fecha\"].notna()]"
   ]
  },
  {
   "cell_type": "code",
   "execution_count": 115,
   "id": "bfefbb28",
   "metadata": {},
   "outputs": [],
   "source": [
    "r.columns = [\"id\", \"name\", \"date\", \"mor_ent\", \"mor_lev\", \"aft_ent\", \"eft_lev\", \"hours_worked\"]\n"
   ]
  },
  {
   "cell_type": "code",
   "execution_count": 264,
   "id": "ac510ca9",
   "metadata": {},
   "outputs": [],
   "source": [
    "m = r.merge(j)"
   ]
  },
  {
   "cell_type": "code",
   "execution_count": 117,
   "id": "38967a6a",
   "metadata": {},
   "outputs": [],
   "source": [
    "import ipywidgets as widgets"
   ]
  },
  {
   "cell_type": "code",
   "execution_count": 265,
   "id": "60424b6c",
   "metadata": {},
   "outputs": [],
   "source": [
    "\n",
    "op = [(d, d) for d in set(m[\"name\"])]"
   ]
  },
  {
   "cell_type": "code",
   "execution_count": null,
   "id": "3f17c57b",
   "metadata": {},
   "outputs": [],
   "source": []
  },
  {
   "cell_type": "code",
   "execution_count": 266,
   "id": "9923f91b",
   "metadata": {},
   "outputs": [
    {
     "data": {
      "application/vnd.jupyter.widget-view+json": {
       "model_id": "5cabafeb9015402c981a06c73868c03a",
       "version_major": 2,
       "version_minor": 0
      },
      "text/plain": [
       "Dropdown(description='Profesores:', index=22, options=(('ARMIJOS BUITRON VERONICA ALEXANDRA', 'ARMIJOS BUITRON…"
      ]
     },
     "execution_count": 266,
     "metadata": {},
     "output_type": "execute_result"
    }
   ],
   "source": [
    "\n",
    "\n",
    "\n",
    "teachers = widgets.Dropdown(\n",
    "    options = op,\n",
    "    value=\"AGUILAR CAMPOVERDE BEDER GONZALO\",\n",
    "    description='Profesores:',\n",
    ")\n",
    "\n",
    "teachers\n",
    "\n"
   ]
  },
  {
   "cell_type": "code",
   "execution_count": 227,
   "id": "0a17d3aa",
   "metadata": {},
   "outputs": [
    {
     "data": {
      "text/plain": [
       "'00'"
      ]
     },
     "execution_count": 227,
     "metadata": {},
     "output_type": "execute_result"
    }
   ],
   "source": []
  },
  {
   "cell_type": "code",
   "execution_count": 255,
   "id": "1c2d4d98",
   "metadata": {},
   "outputs": [],
   "source": [
    "th = m[m[\"name\"]==teachers.value]"
   ]
  },
  {
   "cell_type": "code",
   "execution_count": 256,
   "id": "fa5071c6",
   "metadata": {},
   "outputs": [],
   "source": [
    "t = th[(th[\"aft_ent\"].notna()) | (th[\"eft_lev\"].notna())]"
   ]
  },
  {
   "cell_type": "code",
   "execution_count": 257,
   "id": "9e6d10c4",
   "metadata": {},
   "outputs": [],
   "source": [
    "def sumar_tiempos(tiempo1):\n",
    "    # Dividir el rango de tiempo en horas de inicio y fin\n",
    "    inicio, fin = tiempo1.split('-')\n",
    "\n",
    "    # Dividir las horas y los minutos\n",
    "    hora_inicio, minuto_inicio = map(int, inicio.split(':'))\n",
    "    hora_fin, minuto_fin = map(int, fin.split(':'))\n",
    "\n",
    "    # Calcular la suma de horas y minutos\n",
    "    suma_horas = hora_fin - hora_inicio\n",
    "    suma_minutos = minuto_fin - minuto_inicio\n",
    "\n",
    "    # Ajustar los minutos si son negativos y superan una hora\n",
    "    if suma_minutos < 0:\n",
    "        suma_horas -= 1\n",
    "        suma_minutos += 60\n",
    "\n",
    "    # Devolver el resultado como un valor decimal\n",
    "    resultado1 = suma_horas + suma_minutos / 60\n",
    "    \n",
    "    \n",
    "    \n",
    "    return resultado1\n",
    "\n",
    "\n",
    "li = []\n",
    "def getHoraInicio(tiempo):\n",
    "    inicio, fin = tiempo.split('-')\n",
    "\n",
    "    # Dividir las horas y los minutos\n",
    "    hora_inicio, minuto_inicio = map(int, inicio.split(':'))\n",
    "    s = f\"{hora_inicio}.{minuto_inicio}\"\n",
    "    li.append(float(s))\n",
    "    \n",
    "    \n",
    "  \n"
   ]
  },
  {
   "cell_type": "code",
   "execution_count": 258,
   "id": "7de3aca4",
   "metadata": {},
   "outputs": [
    {
     "name": "stderr",
     "output_type": "stream",
     "text": [
      "C:\\Users\\H P\\AppData\\Local\\Temp\\ipykernel_11140\\317731707.py:13: SettingWithCopyWarning: \n",
      "A value is trying to be set on a copy of a slice from a DataFrame.\n",
      "Try using .loc[row_indexer,col_indexer] = value instead\n",
      "\n",
      "See the caveats in the documentation: https://pandas.pydata.org/pandas-docs/stable/user_guide/indexing.html#returning-a-view-versus-a-copy\n",
      "  t[\"ent_manana\"] = list\n",
      "C:\\Users\\H P\\AppData\\Local\\Temp\\ipykernel_11140\\317731707.py:26: SettingWithCopyWarning: \n",
      "A value is trying to be set on a copy of a slice from a DataFrame.\n",
      "Try using .loc[row_indexer,col_indexer] = value instead\n",
      "\n",
      "See the caveats in the documentation: https://pandas.pydata.org/pandas-docs/stable/user_guide/indexing.html#returning-a-view-versus-a-copy\n",
      "  t[\"ent_tard\"] = list\n"
     ]
    }
   ],
   "source": [
    "# !!!!!! WARNING !!!!!!!\n",
    "# se añaden las nueva columnas,se calcula la hora como número\n",
    "# t[\"jmor\"].apply(getHoraInicio)\n",
    "# t[\"ent_manana\"] = li\n",
    "list = []\n",
    "for i in t[\"jmor\"].to_list():\n",
    "    p, s = i.split('-')\n",
    "    \n",
    "    h, mi = p.split(':')\n",
    "    list.append(float(f\"{h}.{mi}\")+0.10)\n",
    "    \n",
    "\n",
    "t[\"ent_manana\"] = list\n",
    "\n",
    "\n",
    "list = []\n",
    "\n",
    "\n",
    "for i in t[\"jaft\"].to_list():\n",
    "    p, s = i.split('-')\n",
    "    \n",
    "    h, mi = p.split(':')\n",
    "    list.append(float(f\"{h}.{mi}\")+0.10)\n",
    "    \n",
    "    \n",
    "t[\"ent_tard\"] = list    \n",
    "    "
   ]
  },
  {
   "cell_type": "code",
   "execution_count": 259,
   "id": "0548dae3",
   "metadata": {},
   "outputs": [
    {
     "ename": "AttributeError",
     "evalue": "'float' object has no attribute 'split'",
     "output_type": "error",
     "traceback": [
      "\u001b[1;31m---------------------------------------------------------------------------\u001b[0m",
      "\u001b[1;31mAttributeError\u001b[0m                            Traceback (most recent call last)",
      "Cell \u001b[1;32mIn[259], line 4\u001b[0m\n\u001b[0;32m      1\u001b[0m \u001b[38;5;28mlist\u001b[39m \u001b[38;5;241m=\u001b[39m []\n\u001b[0;32m      3\u001b[0m \u001b[38;5;28;01mfor\u001b[39;00m i \u001b[38;5;129;01min\u001b[39;00m t[\u001b[38;5;124m\"\u001b[39m\u001b[38;5;124mmor_ent\u001b[39m\u001b[38;5;124m\"\u001b[39m]\u001b[38;5;241m.\u001b[39mto_list():\n\u001b[1;32m----> 4\u001b[0m     h, mi \u001b[38;5;241m=\u001b[39m \u001b[43mi\u001b[49m\u001b[38;5;241;43m.\u001b[39;49m\u001b[43msplit\u001b[49m(\u001b[38;5;124m\"\u001b[39m\u001b[38;5;124m:\u001b[39m\u001b[38;5;124m\"\u001b[39m)\n\u001b[0;32m      5\u001b[0m     \u001b[38;5;28mlist\u001b[39m\u001b[38;5;241m.\u001b[39mappend(\u001b[38;5;28mfloat\u001b[39m(\u001b[38;5;124mf\u001b[39m\u001b[38;5;124m\"\u001b[39m\u001b[38;5;132;01m{\u001b[39;00mh\u001b[38;5;132;01m}\u001b[39;00m\u001b[38;5;124m.\u001b[39m\u001b[38;5;132;01m{\u001b[39;00mmi\u001b[38;5;132;01m}\u001b[39;00m\u001b[38;5;124m\"\u001b[39m))\n\u001b[0;32m      7\u001b[0m t[\u001b[38;5;124m\"\u001b[39m\u001b[38;5;124mhora_entro_manana\u001b[39m\u001b[38;5;124m\"\u001b[39m] \u001b[38;5;241m=\u001b[39m \u001b[38;5;28mlist\u001b[39m        \n",
      "\u001b[1;31mAttributeError\u001b[0m: 'float' object has no attribute 'split'"
     ]
    }
   ],
   "source": [
    "list = []\n",
    "\n",
    "for i in t[\"mor_ent\"].to_list():\n",
    "    h, mi = i.split(\":\")\n",
    "    list.append(float(f\"{h}.{mi}\"))\n",
    "\n",
    "t[\"hora_entro_manana\"] = list        \n",
    "    \n",
    "list = []    \n",
    "for i in t[\"aft_ent\"].to_list():\n",
    "    h, mi = i.split(\":\")\n",
    "    list.append(float(f\"{h}.{mi}\"))    \n",
    "    \n",
    "t[\"hora_entro_tarde\"] = list   \n",
    "\n",
    "t"
   ]
  },
  {
   "cell_type": "code",
   "execution_count": 251,
   "id": "ded06e46",
   "metadata": {},
   "outputs": [],
   "source": [
    "# t.to_csv(\"data.csv\")"
   ]
  },
  {
   "cell_type": "code",
   "execution_count": 253,
   "id": "d97d7837",
   "metadata": {},
   "outputs": [
    {
     "data": {
      "text/html": [
       "<div>\n",
       "<style scoped>\n",
       "    .dataframe tbody tr th:only-of-type {\n",
       "        vertical-align: middle;\n",
       "    }\n",
       "\n",
       "    .dataframe tbody tr th {\n",
       "        vertical-align: top;\n",
       "    }\n",
       "\n",
       "    .dataframe thead th {\n",
       "        text-align: right;\n",
       "    }\n",
       "</style>\n",
       "<table border=\"1\" class=\"dataframe\">\n",
       "  <thead>\n",
       "    <tr style=\"text-align: right;\">\n",
       "      <th></th>\n",
       "      <th>name</th>\n",
       "      <th>ent_manana</th>\n",
       "      <th>hora_entro_manana</th>\n",
       "    </tr>\n",
       "  </thead>\n",
       "  <tbody>\n",
       "    <tr>\n",
       "      <th>35</th>\n",
       "      <td>AGUILAR CAMPOVERDE BEDER GONZALO</td>\n",
       "      <td>8.1</td>\n",
       "      <td>12.41</td>\n",
       "    </tr>\n",
       "    <tr>\n",
       "      <th>40</th>\n",
       "      <td>AGUILAR CAMPOVERDE BEDER GONZALO</td>\n",
       "      <td>8.1</td>\n",
       "      <td>8.11</td>\n",
       "    </tr>\n",
       "    <tr>\n",
       "      <th>53</th>\n",
       "      <td>AGUILAR CAMPOVERDE BEDER GONZALO</td>\n",
       "      <td>8.1</td>\n",
       "      <td>13.03</td>\n",
       "    </tr>\n",
       "    <tr>\n",
       "      <th>71</th>\n",
       "      <td>AGUILAR CAMPOVERDE BEDER GONZALO</td>\n",
       "      <td>8.1</td>\n",
       "      <td>12.17</td>\n",
       "    </tr>\n",
       "  </tbody>\n",
       "</table>\n",
       "</div>"
      ],
      "text/plain": [
       "                                name  ent_manana  hora_entro_manana\n",
       "35  AGUILAR CAMPOVERDE BEDER GONZALO         8.1              12.41\n",
       "40  AGUILAR CAMPOVERDE BEDER GONZALO         8.1               8.11\n",
       "53  AGUILAR CAMPOVERDE BEDER GONZALO         8.1              13.03\n",
       "71  AGUILAR CAMPOVERDE BEDER GONZALO         8.1              12.17"
      ]
     },
     "execution_count": 253,
     "metadata": {},
     "output_type": "execute_result"
    }
   ],
   "source": [
    "d = t[[\"name\", \"ent_manana\", \"hora_entro_manana\",\"ent_tard\",  \"hora_entro_tarde\"]]\n",
    "d[d[\"hora_entro_manana\"]>d[\"ent_manana\"]].drop(['ent_tard', 'hora_entro_tarde'], axis = 1)"
   ]
  },
  {
   "cell_type": "code",
   "execution_count": 254,
   "id": "549a9443",
   "metadata": {},
   "outputs": [
    {
     "data": {
      "text/html": [
       "<div>\n",
       "<style scoped>\n",
       "    .dataframe tbody tr th:only-of-type {\n",
       "        vertical-align: middle;\n",
       "    }\n",
       "\n",
       "    .dataframe tbody tr th {\n",
       "        vertical-align: top;\n",
       "    }\n",
       "\n",
       "    .dataframe thead th {\n",
       "        text-align: right;\n",
       "    }\n",
       "</style>\n",
       "<table border=\"1\" class=\"dataframe\">\n",
       "  <thead>\n",
       "    <tr style=\"text-align: right;\">\n",
       "      <th></th>\n",
       "      <th>name</th>\n",
       "      <th>ent_tard</th>\n",
       "      <th>hora_entro_tarde</th>\n",
       "    </tr>\n",
       "  </thead>\n",
       "  <tbody>\n",
       "    <tr>\n",
       "      <th>12</th>\n",
       "      <td>AGUILAR CAMPOVERDE BEDER GONZALO</td>\n",
       "      <td>15.1</td>\n",
       "      <td>18.04</td>\n",
       "    </tr>\n",
       "    <tr>\n",
       "      <th>22</th>\n",
       "      <td>AGUILAR CAMPOVERDE BEDER GONZALO</td>\n",
       "      <td>15.1</td>\n",
       "      <td>15.23</td>\n",
       "    </tr>\n",
       "    <tr>\n",
       "      <th>37</th>\n",
       "      <td>AGUILAR CAMPOVERDE BEDER GONZALO</td>\n",
       "      <td>15.1</td>\n",
       "      <td>15.13</td>\n",
       "    </tr>\n",
       "    <tr>\n",
       "      <th>38</th>\n",
       "      <td>AGUILAR CAMPOVERDE BEDER GONZALO</td>\n",
       "      <td>15.1</td>\n",
       "      <td>18.43</td>\n",
       "    </tr>\n",
       "    <tr>\n",
       "      <th>53</th>\n",
       "      <td>AGUILAR CAMPOVERDE BEDER GONZALO</td>\n",
       "      <td>15.1</td>\n",
       "      <td>15.12</td>\n",
       "    </tr>\n",
       "  </tbody>\n",
       "</table>\n",
       "</div>"
      ],
      "text/plain": [
       "                                name  ent_tard  hora_entro_tarde\n",
       "12  AGUILAR CAMPOVERDE BEDER GONZALO      15.1             18.04\n",
       "22  AGUILAR CAMPOVERDE BEDER GONZALO      15.1             15.23\n",
       "37  AGUILAR CAMPOVERDE BEDER GONZALO      15.1             15.13\n",
       "38  AGUILAR CAMPOVERDE BEDER GONZALO      15.1             18.43\n",
       "53  AGUILAR CAMPOVERDE BEDER GONZALO      15.1             15.12"
      ]
     },
     "execution_count": 254,
     "metadata": {},
     "output_type": "execute_result"
    }
   ],
   "source": [
    "d[d[\"hora_entro_tarde\"]>d[\"ent_tard\"]][[\"name\", \"ent_tard\", \"hora_entro_tarde\"]]"
   ]
  },
  {
   "cell_type": "code",
   "execution_count": 223,
   "id": "e16d2813",
   "metadata": {},
   "outputs": [],
   "source": [
    "\n"
   ]
  },
  {
   "cell_type": "code",
   "execution_count": null,
   "id": "c1cecdcc",
   "metadata": {},
   "outputs": [],
   "source": []
  }
 ],
 "metadata": {
  "kernelspec": {
   "display_name": "Python 3 (ipykernel)",
   "language": "python",
   "name": "python3"
  },
  "language_info": {
   "codemirror_mode": {
    "name": "ipython",
    "version": 3
   },
   "file_extension": ".py",
   "mimetype": "text/x-python",
   "name": "python",
   "nbconvert_exporter": "python",
   "pygments_lexer": "ipython3",
   "version": "3.11.1"
  }
 },
 "nbformat": 4,
 "nbformat_minor": 5
}
